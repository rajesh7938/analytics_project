{
 "cells": [
  {
   "cell_type": "markdown",
   "id": "d9ec2bfb-72fa-4253-8f23-99bc5ce34ddb",
   "metadata": {
    "tags": []
   },
   "source": [
    "## Introduction\n",
    "\n",
    "\n",
    "Business Case Problem Statement\n",
    "\n",
    "ABC Supermarket, a major player in the UK with multiple stores and a loyalty program with 250,000 participants, has launched a new line of organic products. To achieve fast product penetration, the company is planning to leverage its loyalty program by giving sample kits to its most probable buyers.\n",
    "\n",
    "Problem:\n",
    "\n",
    "ABC Supermarket needs to identify the most probable buyers of its new line of organic products from its pool of 250,000 loyalty program participants.\n",
    "\n",
    "Challenge:\n",
    "\n",
    "The company needs to develop a targeting strategy that is both efficient and effective. It needs to identify the most probable buyers with a high degree of accuracy, while also minimizing the cost of giving away sample kits.\n",
    "\n",
    "Solution:\n",
    "\n",
    "ABC Supermarket can use its loyalty program data to identify the most probable buyers of its new line of organic products. The company can segment its loyalty program participants based on their purchase history, demographics, and other relevant factors. It can then target the most promising segments with sample kits.\n",
    "\n",
    "Expected Benefits:\n",
    "\n",
    "By leveraging its loyalty program, ABC Supermarket can achieve fast product penetration for its new line of organic products. This will lead to increased sales and profitability for the company.\n",
    "\n",
    "Metrics for Success:\n",
    "\n",
    "The success of ABC Supermarket's loyalty program targeting strategy can be measured by the following metrics:\n",
    "\n",
    "Percentage of sample kit recipients who purchase the new line of organic products\n",
    "Increase in sales of the new line of organic products\n",
    "Return on investment of the loyalty program targeting campaign"
   ]
  },
  {
   "cell_type": "code",
   "execution_count": 51,
   "id": "bfa40217-7fa7-4530-94ac-eb99573e62d6",
   "metadata": {},
   "outputs": [],
   "source": [
    "import pandas as pd\n",
    "import numpy as np\n",
    "\n",
    "from sklearn.model_selection import train_test_split\n",
    "from sklearn.preprocessing import StandardScaler\n",
    "from sklearn.metrics import classification_report, confusion_matrix, accuracy_score\n",
    "from sklearn.linear_model import LogisticRegression"
   ]
  },
  {
   "cell_type": "code",
   "execution_count": 52,
   "id": "973add9e-2e78-477c-b59b-a877b6a95bb4",
   "metadata": {},
   "outputs": [],
   "source": [
    "import numpy as np\n",
    "from sklearn.model_selection import GridSearchCV\n",
    "from sklearn.model_selection import train_test_split\n",
    "from sklearn.model_selection import StratifiedKFold\n",
    "from sklearn.model_selection import cross_val_score\n",
    "from sklearn.pipeline import Pipeline\n",
    "from sklearn.preprocessing import StandardScaler\n",
    "from sklearn.linear_model import LogisticRegression\n",
    "from sklearn.neighbors import KNeighborsClassifier\n",
    "from sklearn.tree import DecisionTreeClassifier\n",
    "from sklearn.svm import SVC\n",
    "from sklearn.naive_bayes import GaussianNB # Import Gaussian Naive Bayes from mlxtend.data import mnist_data\n",
    "from sklearn.metrics import accuracy_score"
   ]
  },
  {
   "cell_type": "code",
   "execution_count": 53,
   "id": "ee298d9e-2a92-4c02-9144-0549e34f9c2e",
   "metadata": {},
   "outputs": [],
   "source": [
    "import os "
   ]
  },
  {
   "cell_type": "code",
   "execution_count": 54,
   "id": "86cc7e7f-b679-43cb-a05d-483c4d1ddaeb",
   "metadata": {},
   "outputs": [
    {
     "data": {
      "text/plain": [
       "'/Users/rajeshkumarroutray/Desktop'"
      ]
     },
     "execution_count": 54,
     "metadata": {},
     "output_type": "execute_result"
    }
   ],
   "source": [
    "os.getcwd()\n"
   ]
  },
  {
   "cell_type": "code",
   "execution_count": 55,
   "id": "606b88f0-b172-45b9-be37-417c418c4de2",
   "metadata": {},
   "outputs": [],
   "source": [
    "os.chdir('/Users/rajeshkumarroutray/Desktop')\n"
   ]
  },
  {
   "cell_type": "code",
   "execution_count": 56,
   "id": "a1ed5b1f-4a35-474d-aec0-1a7bc44bb2ef",
   "metadata": {},
   "outputs": [],
   "source": [
    "df = pd.read_excel(\"a1_Dataset_10Percent.xlsx\")"
   ]
  },
  {
   "cell_type": "markdown",
   "id": "091da6e5-0443-4153-b9a8-281bc02bf777",
   "metadata": {},
   "source": [
    "Client shared data for ~10%, along with purchase decisions: This means that the client has shared data for 10% of their customers, which includes information about what products they have purchased in the past. \n",
    "\n",
    "This data will be used by the company to develop a model that can predict which customers are most likely to buy their product.\n",
    "\n",
    "Client onboarded us formulate an Analytics-enabled Marketing Strategy to predict most probable buyers from ~90%: \n",
    "The client has hired the company to develop a marketing strategy that will use analytics to identify the most likely customers to buy their product. \n",
    "\n",
    "This will allow the client to target their marketing efforts more effectively and increase their sales.\n",
    "With objective of optimizing profitability & market penetration, given:\n",
    "\n",
    "Revenue from a successful buyer = 200   dollars : The company earns  200  dollars for every customer who buys their product.\n",
    "Cost of promotional sample kit = 70   dollars: The company spends  70  dollars to send a promotional sample kit to each customer."
   ]
  },
  {
   "cell_type": "code",
   "execution_count": 41,
   "id": "fe053cfa-a5ef-4481-b896-4766df6ff4e3",
   "metadata": {},
   "outputs": [
    {
     "data": {
      "text/plain": [
       "ID                    0\n",
       "DemAffl            1085\n",
       "DemAge             1508\n",
       "DemClusterGroup     674\n",
       "DemGender          2512\n",
       "DemReg              465\n",
       "DemTVReg            465\n",
       "LoyalClass            0\n",
       "LoyalSpend            0\n",
       "LoyalTime           281\n",
       "TargetBuy             0\n",
       "dtype: int64"
      ]
     },
     "execution_count": 41,
     "metadata": {},
     "output_type": "execute_result"
    }
   ],
   "source": [
    "df.isna().sum()"
   ]
  },
  {
   "cell_type": "code",
   "execution_count": 57,
   "id": "a198aae5-730d-4d48-b838-025851d086cb",
   "metadata": {},
   "outputs": [],
   "source": [
    "df=df.drop(['ID'],axis=1)\n"
   ]
  },
  {
   "cell_type": "code",
   "execution_count": 58,
   "id": "38c2dde4-d61f-45c5-8fd4-b3b7c8766b14",
   "metadata": {},
   "outputs": [],
   "source": [
    "df['DemAffl']=df['DemAffl'].fillna(df['DemAffl'].mode()[0])\n",
    "df['DemAge']=df['DemAge'].fillna(df['DemAge'].mode()[0])\n",
    "df['DemClusterGroup']=df['DemClusterGroup'].fillna(df['DemClusterGroup'].mode()[0])\n",
    "df['DemGender']=df['DemGender'].fillna(df['DemGender'].mode()[0])\n",
    "df['DemReg']=df['DemReg'].fillna(df['DemReg'].mode()[0])\n",
    "df['DemTVReg']=df['DemTVReg'].fillna(df['DemTVReg'].mode()[0])\n",
    "df['LoyalTime']=df['LoyalTime'].fillna(df['LoyalTime'].mean())"
   ]
  },
  {
   "cell_type": "code",
   "execution_count": 59,
   "id": "94da03b9-ece0-4093-95f0-14cc6747a161",
   "metadata": {},
   "outputs": [
    {
     "name": "stdout",
     "output_type": "stream",
     "text": [
      "{'A': 0, 'B': 1, 'C': 2, 'D': 3, 'E': 4, 'F': 5, 'U': 6}\n",
      "{'F': 0, 'M': 1, 'U': 2}\n",
      "{'Midlands': 0, 'North': 1, 'Scottish': 2, 'South East': 3, 'South West': 4}\n",
      "{'Border': 0, 'C Scotland': 1, 'East': 2, 'London': 3, 'Midlands': 4, 'N East': 5, 'N Scot': 6, 'N West': 7, 'S & S East': 8, 'S West': 9, 'Ulster': 10, 'Wales & West': 11, 'Yorkshire': 12}\n",
      "{'Gold': 0, 'Platinum': 1, 'Silver': 2, 'Tin': 3}\n"
     ]
    }
   ],
   "source": [
    "# converting to mumeric\n",
    "\n",
    "from sklearn.preprocessing import LabelEncoder\n",
    "number = LabelEncoder()\n",
    "\n",
    "df['DemClusterGroup'] = number.fit_transform(df['DemClusterGroup'].astype('str'))\n",
    "integer_mapping = {l: i for i, l in enumerate(number.classes_)}\n",
    "print(integer_mapping)\n",
    "\n",
    "df['DemGender'] = number.fit_transform(df['DemGender'].astype('str'))\n",
    "integer_mapping = {l: i for i, l in enumerate(number.classes_)}\n",
    "print(integer_mapping)\n",
    "\n",
    "df['DemReg'] = number.fit_transform(df['DemReg'].astype('str'))\n",
    "integer_mapping = {l: i for i, l in enumerate(number.classes_)}\n",
    "print(integer_mapping)\n",
    "\n",
    "df['DemTVReg'] = number.fit_transform(df['DemTVReg'].astype('str'))\n",
    "integer_mapping = {l: i for i, l in enumerate(number.classes_)}\n",
    "print(integer_mapping)\n",
    "\n",
    "df['LoyalClass'] = number.fit_transform(df['LoyalClass'].astype('str'))\n",
    "integer_mapping = {l: i for i, l in enumerate(number.classes_)}\n",
    "print(integer_mapping)"
   ]
  },
  {
   "cell_type": "code",
   "execution_count": 60,
   "id": "5ad97910-9993-48b1-b32b-21914338f5bd",
   "metadata": {},
   "outputs": [],
   "source": [
    "df_median = df.copy()"
   ]
  },
  {
   "cell_type": "code",
   "execution_count": null,
   "id": "bb447b96-489a-4e3d-a88f-df52db42dd79",
   "metadata": {},
   "outputs": [],
   "source": [
    "doing regression analysis for df"
   ]
  },
  {
   "cell_type": "code",
   "execution_count": 62,
   "id": "c040f790-2752-4355-a6de-d3799de62c91",
   "metadata": {},
   "outputs": [],
   "source": [
    "y = df.iloc[:, 9].values\n",
    "X = df.iloc[:, 0:9].values"
   ]
  },
  {
   "cell_type": "code",
   "execution_count": 63,
   "id": "5ed77f95-a8f2-4b27-84c6-6f8bca087d6e",
   "metadata": {},
   "outputs": [],
   "source": [
    "X_train, X_test, y_train, y_test = train_test_split(X, \n",
    "                                                    y,test_size=0.3, random_state=17, stratify=y)"
   ]
  },
  {
   "cell_type": "code",
   "execution_count": 64,
   "id": "9fce09d2-bdeb-46c0-b304-e5febc219793",
   "metadata": {},
   "outputs": [],
   "source": [
    "from sklearn.ensemble import RandomForestClassifier\n",
    "from xgboost import XGBClassifier\n",
    "from sklearn.pipeline import Pipeline\n",
    "from sklearn.preprocessing import StandardScaler\n",
    "from sklearn.linear_model import LogisticRegression\n",
    "from sklearn.neighbors import KNeighborsClassifier\n",
    "from sklearn.tree import DecisionTreeClassifier\n",
    "from sklearn.svm import SVC\n",
    "from sklearn.naive_bayes import GaussianNB\n",
    "from sklearn.model_selection import StratifiedKFold\n",
    "import numpy as np\n",
    "\n",
    "# Classifiers\n",
    "clf1 = LogisticRegression(multi_class='multinomial', solver='newton-cg', random_state=1)\n",
    "clf2 = KNeighborsClassifier(algorithm='ball_tree', leaf_size=50)\n",
    "clf3 = DecisionTreeClassifier(random_state=1)\n",
    "clf4 = SVC(random_state=1)\n",
    "clf5 = GaussianNB()\n",
    "clf6 = RandomForestClassifier(random_state=1)\n",
    "clf7 = XGBClassifier(random_state=1)\n",
    "\n",
    "# Building the pipelines\n",
    "pipe1 = Pipeline([('std', StandardScaler()), ('clf1', clf1)])\n",
    "pipe2 = Pipeline([('std', StandardScaler()), ('clf2', clf2)])\n",
    "pipe3 = Pipeline([('std', StandardScaler()), ('clf3', clf3)])\n",
    "pipe4 = Pipeline([('std', StandardScaler()), ('clf4', clf4)])\n",
    "pipe5 = Pipeline([('std', StandardScaler()), ('clf5', clf5)])\n",
    "pipe6 = Pipeline([('std', StandardScaler()), ('clf6', clf6)])\n",
    "pipe7 = Pipeline([('std', StandardScaler()), ('clf7', clf7)])\n",
    "\n",
    "# Setting up the parameter grids\n",
    "param_grid1 = [{'clf1__penalty': ['l2'], 'clf1__C': np.power(10., np.arange(-4, 4))}]\n",
    "param_grid2 = [{'clf2__n_neighbors': list(range(1, 10)), 'clf2__p': [1, 2]}]\n",
    "param_grid3 = [{'clf3__max_depth': list(range(1, 10)) + [None], 'clf3__criterion': ['gini', 'entropy']}]\n",
    "\n",
    "param_grid4 = [{'clf4__C': np.power(10., np.arange(-4, 4)),\n",
    "                'clf4__kernel': ['rbf', 'linear'],\n",
    "                'clf4__gamma': np.power(10., np.arange(-5, 0))}]\n",
    "param_grid6 = [{'clf6__n_estimators': [50, 100, 200], 'clf6__max_depth': [10, 20, None]}]\n",
    "param_grid7 = [{'clf7__n_estimators': [50, 100, 200], 'clf7__learning_rate': [0.01, 0.1, 0.2]}]\n",
    "\n"
   ]
  },
  {
   "cell_type": "code",
   "execution_count": 65,
   "id": "21645e8e-43f4-4371-971a-390404e62e15",
   "metadata": {},
   "outputs": [],
   "source": [
    "gridcvs = {}\n",
    "\n",
    "# StratifiedKFold for inner cross-validation\n",
    "inner_cv = StratifiedKFold(n_splits=2, shuffle=True, random_state=1)\n",
    "\n",
    "# Loop through classifiers, pipelines, and parameter grids\n",
    "for pgrid, est, name in zip((param_grid1, param_grid2, param_grid3, param_grid4, param_grid6, param_grid7),\n",
    "                            (pipe1, pipe2, pipe3, pipe4, pipe6, pipe7),\n",
    "                            ('Logreg', 'KNN', 'DTree', 'SVM', 'RandomForest', 'XGBoost')):\n",
    "    gcv = GridSearchCV(estimator=est, param_grid=pgrid, scoring='accuracy', n_jobs=-1, cv=inner_cv, verbose=0, refit=True)\n",
    "    gridcvs[name] = gcv"
   ]
  },
  {
   "cell_type": "code",
   "execution_count": 20,
   "id": "a41e86b8-42d8-44b7-a44a-14eced660ed7",
   "metadata": {},
   "outputs": [
    {
     "name": "stdout",
     "output_type": "stream",
     "text": [
      "-------------------------------------------------- \n",
      "\n",
      "Algorithm: DTree\n",
      "    Inner loop:\n",
      "\n",
      "        Best ACC (avg. of inner test folds) 81.00%\n",
      "        Best paramete\\rs: {'clf3__criterion': 'gini', 'clf3__max_depth': 5}\n",
      "        ACC (on outer test fold) 81.62%\n",
      "\n",
      "        Best ACC (avg. of inner test folds) 81.28%\n",
      "        Best paramete\\rs: {'clf3__criterion': 'gini', 'clf3__max_depth': 5}\n",
      "        ACC (on outer test fold) 80.46%\n",
      "\n",
      "        Best ACC (avg. of inner test folds) 81.05%\n",
      "        Best paramete\\rs: {'clf3__criterion': 'gini', 'clf3__max_depth': 4}\n",
      "        ACC (on outer test fold) 81.77%\n",
      "\n",
      "        Best ACC (avg. of inner test folds) 81.43%\n",
      "        Best paramete\\rs: {'clf3__criterion': 'entropy', 'clf3__max_depth': 5}\n",
      "        ACC (on outer test fold) 81.58%\n",
      "\n",
      "        Best ACC (avg. of inner test folds) 81.23%\n",
      "        Best paramete\\rs: {'clf3__criterion': 'entropy', 'clf3__max_depth': 6}\n",
      "        ACC (on outer test fold) 80.68%\n",
      "\n",
      "    Outer Loop:\n",
      "        ACC 81.22% +/- 0.54\n",
      "-------------------------------------------------- \n",
      "\n",
      "Algorithm: KNN\n",
      "    Inner loop:\n",
      "\n",
      "        Best ACC (avg. of inner test folds) 80.16%\n",
      "        Best paramete\\rs: {'clf2__n_neighbors': 9, 'clf2__p': 2}\n",
      "        ACC (on outer test fold) 79.53%\n",
      "\n",
      "        Best ACC (avg. of inner test folds) 79.82%\n",
      "        Best paramete\\rs: {'clf2__n_neighbors': 8, 'clf2__p': 2}\n",
      "        ACC (on outer test fold) 79.40%\n",
      "\n",
      "        Best ACC (avg. of inner test folds) 79.56%\n",
      "        Best paramete\\rs: {'clf2__n_neighbors': 9, 'clf2__p': 2}\n",
      "        ACC (on outer test fold) 80.42%\n",
      "\n",
      "        Best ACC (avg. of inner test folds) 79.58%\n",
      "        Best paramete\\rs: {'clf2__n_neighbors': 8, 'clf2__p': 2}\n",
      "        ACC (on outer test fold) 80.55%\n",
      "\n",
      "        Best ACC (avg. of inner test folds) 79.65%\n",
      "        Best paramete\\rs: {'clf2__n_neighbors': 9, 'clf2__p': 2}\n",
      "        ACC (on outer test fold) 80.68%\n",
      "\n",
      "    Outer Loop:\n",
      "        ACC 80.12% +/- 0.54\n",
      "-------------------------------------------------- \n",
      "\n",
      "Algorithm: Logreg\n",
      "    Inner loop:\n",
      "\n",
      "        Best ACC (avg. of inner test folds) 80.94%\n",
      "        Best paramete\\rs: {'clf1__C': 1.0, 'clf1__penalty': 'l2'}\n",
      "        ACC (on outer test fold) 80.82%\n",
      "\n",
      "        Best ACC (avg. of inner test folds) 81.11%\n",
      "        Best paramete\\rs: {'clf1__C': 1.0, 'clf1__penalty': 'l2'}\n",
      "        ACC (on outer test fold) 80.62%\n",
      "\n",
      "        Best ACC (avg. of inner test folds) 80.82%\n",
      "        Best paramete\\rs: {'clf1__C': 1.0, 'clf1__penalty': 'l2'}\n",
      "        ACC (on outer test fold) 81.65%\n",
      "\n",
      "        Best ACC (avg. of inner test folds) 80.80%\n",
      "        Best paramete\\rs: {'clf1__C': 10.0, 'clf1__penalty': 'l2'}\n",
      "        ACC (on outer test fold) 81.32%\n",
      "\n",
      "        Best ACC (avg. of inner test folds) 81.08%\n",
      "        Best paramete\\rs: {'clf1__C': 0.1, 'clf1__penalty': 'l2'}\n",
      "        ACC (on outer test fold) 80.39%\n",
      "\n",
      "    Outer Loop:\n",
      "        ACC 80.96% +/- 0.46\n",
      "-------------------------------------------------- \n",
      "\n",
      "Algorithm: RandomForest\n",
      "    Inner loop:\n",
      "\n",
      "        Best ACC (avg. of inner test folds) 81.28%\n",
      "        Best paramete\\rs: {'clf6__max_depth': 10, 'clf6__n_estimators': 50}\n",
      "        ACC (on outer test fold) 81.72%\n",
      "\n",
      "        Best ACC (avg. of inner test folds) 81.30%\n",
      "        Best paramete\\rs: {'clf6__max_depth': 10, 'clf6__n_estimators': 100}\n",
      "        ACC (on outer test fold) 80.30%\n",
      "\n",
      "        Best ACC (avg. of inner test folds) 81.24%\n",
      "        Best paramete\\rs: {'clf6__max_depth': 10, 'clf6__n_estimators': 200}\n",
      "        ACC (on outer test fold) 82.32%\n",
      "\n",
      "        Best ACC (avg. of inner test folds) 81.42%\n",
      "        Best paramete\\rs: {'clf6__max_depth': 10, 'clf6__n_estimators': 200}\n",
      "        ACC (on outer test fold) 81.58%\n",
      "\n",
      "        Best ACC (avg. of inner test folds) 81.18%\n",
      "        Best paramete\\rs: {'clf6__max_depth': 10, 'clf6__n_estimators': 200}\n",
      "        ACC (on outer test fold) 81.23%\n",
      "\n",
      "    Outer Loop:\n",
      "        ACC 81.43% +/- 0.67\n",
      "-------------------------------------------------- \n",
      "\n",
      "Algorithm: SVM\n",
      "    Inner loop:\n",
      "\n",
      "        Best ACC (avg. of inner test folds) 81.02%\n",
      "        Best paramete\\rs: {'clf4__C': 1.0, 'clf4__gamma': 0.1, 'clf4__kernel': 'rbf'}\n",
      "        ACC (on outer test fold) 80.91%\n",
      "\n",
      "        Best ACC (avg. of inner test folds) 81.00%\n",
      "        Best paramete\\rs: {'clf4__C': 1.0, 'clf4__gamma': 0.1, 'clf4__kernel': 'rbf'}\n",
      "        ACC (on outer test fold) 80.65%\n",
      "\n",
      "        Best ACC (avg. of inner test folds) 80.70%\n",
      "        Best paramete\\rs: {'clf4__C': 1.0, 'clf4__gamma': 0.1, 'clf4__kernel': 'rbf'}\n",
      "        ACC (on outer test fold) 81.71%\n",
      "\n",
      "        Best ACC (avg. of inner test folds) 80.88%\n",
      "        Best paramete\\rs: {'clf4__C': 1.0, 'clf4__gamma': 0.1, 'clf4__kernel': 'rbf'}\n",
      "        ACC (on outer test fold) 81.10%\n",
      "\n",
      "        Best ACC (avg. of inner test folds) 80.98%\n",
      "        Best paramete\\rs: {'clf4__C': 10.0, 'clf4__gamma': 0.01, 'clf4__kernel': 'rbf'}\n",
      "        ACC (on outer test fold) 80.46%\n",
      "\n",
      "    Outer Loop:\n",
      "        ACC 80.97% +/- 0.43\n",
      "-------------------------------------------------- \n",
      "\n",
      "Algorithm: XGBoost\n",
      "    Inner loop:\n",
      "\n",
      "        Best ACC (avg. of inner test folds) 81.29%\n",
      "        Best paramete\\rs: {'clf7__learning_rate': 0.01, 'clf7__n_estimators': 200}\n",
      "        ACC (on outer test fold) 82.10%\n",
      "\n",
      "        Best ACC (avg. of inner test folds) 81.39%\n",
      "        Best paramete\\rs: {'clf7__learning_rate': 0.1, 'clf7__n_estimators': 50}\n",
      "        ACC (on outer test fold) 80.75%\n",
      "\n",
      "        Best ACC (avg. of inner test folds) 81.04%\n",
      "        Best paramete\\rs: {'clf7__learning_rate': 0.1, 'clf7__n_estimators': 100}\n",
      "        ACC (on outer test fold) 82.06%\n",
      "\n",
      "        Best ACC (avg. of inner test folds) 81.44%\n",
      "        Best paramete\\rs: {'clf7__learning_rate': 0.1, 'clf7__n_estimators': 50}\n",
      "        ACC (on outer test fold) 81.81%\n",
      "\n",
      "        Best ACC (avg. of inner test folds) 81.41%\n",
      "        Best paramete\\rs: {'clf7__learning_rate': 0.01, 'clf7__n_estimators': 200}\n",
      "        ACC (on outer test fold) 81.49%\n",
      "\n",
      "    Outer Loop:\n",
      "        ACC 81.64% +/- 0.50\n"
     ]
    }
   ],
   "source": [
    "for name, gs_est in sorted(gridcvs.items()):\n",
    "\n",
    "    print(50 * '-', '\\n')\n",
    "    print('Algorithm:', name)\n",
    "    print('    Inner loop:')\n",
    "    \n",
    "    outer_scores = []\n",
    "    outer_cv = StratifiedKFold(n_splits=5, shuffle=True, random_state=1)\n",
    "    \n",
    "    \n",
    "    for train_idx, valid_idx in outer_cv.split(X_train, y_train):\n",
    "        \n",
    "        gridcvs[name].fit(X_train[train_idx], y_train[train_idx]) # run inner loop hyperparam tuning\n",
    "        print('\\n        Best ACC (avg. of inner test folds) %.2f%%' % (gridcvs[name].best_score_ * 100))\n",
    "        print('        Best paramete\\\\rs:', gridcvs[name].best_params_)\n",
    "        \n",
    "        # perf on test fold (valid_idx)\n",
    "        outer_scores.append(gridcvs[name].best_estimator_.score(X_train[valid_idx], y_train[valid_idx]))\n",
    "        print('        ACC (on outer test fold) %.2f%%' % (outer_scores[-1]*100))\n",
    "    \n",
    "    print('\\n    Outer Loop:')\n",
    "    print('        ACC %.2f%% +/- %.2f' % \n",
    "              (np.mean(outer_scores) * 100, np.std(outer_scores) * 100))"
   ]
  },
  {
   "cell_type": "code",
   "execution_count": 66,
   "id": "2e08474a-6746-46be-9fd6-6bb443528983",
   "metadata": {},
   "outputs": [
    {
     "name": "stdout",
     "output_type": "stream",
     "text": [
      "Fitting 2 folds for each of 9 candidates, totalling 18 fits\n",
      "Best CV accuracy: 80.89%\n",
      "Best parameters: {'clf6__max_depth': 10, 'clf6__n_estimators': 100}\n"
     ]
    }
   ],
   "source": [
    "gcv_model_select = GridSearchCV(estimator=pipe6, param_grid=param_grid6,\n",
    "                                 scoring='accuracy', n_jobs=-1, cv=inner_cv, verbose=1, refit=True)\n",
    "gcv_model_select.fit(X_train, y_train)\n",
    "\n",
    "# Print results\n",
    "print('Best CV accuracy: %.2f%%' % (gcv_model_select.best_score_ * 100))\n",
    "print('Best parameters:', gcv_model_select.best_params_)"
   ]
  },
  {
   "cell_type": "code",
   "execution_count": 22,
   "id": "7f07e78d-c1ad-4762-97c9-3c6de41c0e13",
   "metadata": {},
   "outputs": [],
   "source": [
    "import pandas as pd\n",
    "\n",
    "# Assuming 'classifier' is the trained model\n",
    "predictions = gcv_model_select.predict_proba(X_test)  # Assuming 'gcv_model_select' is the trained GridSearchCV model\n",
    "\n",
    "\n"
   ]
  },
  {
   "cell_type": "code",
   "execution_count": 76,
   "id": "7def0915-b20f-45f1-a648-38c80ad15233",
   "metadata": {},
   "outputs": [
    {
     "data": {
      "text/plain": [
       "['./c2_GridSearchCV_LoyalCustomers']"
      ]
     },
     "execution_count": 76,
     "metadata": {},
     "output_type": "execute_result"
    }
   ],
   "source": [
    "import joblib\n",
    "\n",
    "# Assuming gcv_model_select is your GridSearchCV instance\n",
    "joblib.dump(gcv_model_select, './c2_GridSearchCV_LoyalCustomers')\n"
   ]
  },
  {
   "cell_type": "code",
   "execution_count": 25,
   "id": "cbfc3c18-72fe-4cf4-b552-74c9cd6c24a4",
   "metadata": {},
   "outputs": [],
   "source": [
    "df_prediction_prob = pd.DataFrame(predictions, columns=['prob_0', 'prob_1'])\n",
    "\n",
    "# Create DataFrames for test dataset and features\n",
    "df_test_dataset = pd.DataFrame(y_test, columns=['Actual Outcome'])\n",
    "df_x_test = pd.DataFrame(X_test)\n",
    "\n",
    "# Concatenate all DataFrames\n",
    "dfx = pd.concat([df_x_test, df_test_dataset, df_prediction_prob], axis=1)\n",
    "excel_file_path = \"/Users/rajeshkumarroutray/Downloads/c1_ModelOutput_10Percent.xlsx\"\n",
    "\n",
    "# Save the DataFrame to an Excel file\n",
    "dfx.to_excel(excel_file_path, index=False)"
   ]
  },
  {
   "cell_type": "code",
   "execution_count": 84,
   "id": "b2ecae87-299e-4882-a563-4d8d254a0d53",
   "metadata": {},
   "outputs": [],
   "source": [
    "os.chdir('/Users/rajeshkumarroutray/Downloads')\n"
   ]
  },
  {
   "cell_type": "code",
   "execution_count": 85,
   "id": "98c19bdc-fa08-4598-a81d-8c434beee2d9",
   "metadata": {},
   "outputs": [],
   "source": [
    "predict_data = pd.read_excel(\" 90_percent_file.xlsx\")"
   ]
  },
  {
   "cell_type": "code",
   "execution_count": 86,
   "id": "41ce43fa-d156-49df-81fe-4baf597d841a",
   "metadata": {},
   "outputs": [],
   "source": [
    "predict_data=predict_data.drop(['ID'],axis=1)\n"
   ]
  },
  {
   "cell_type": "code",
   "execution_count": 87,
   "id": "45fe41eb-1df9-41c9-ab25-43d24910d317",
   "metadata": {},
   "outputs": [],
   "source": [
    "\n",
    "predict_data['DemAffl']=predict_data['DemAffl'].fillna(predict_data['DemAffl'].mode()[0])\n",
    "predict_data['DemAge']=predict_data['DemAge'].fillna(predict_data['DemAge'].mode()[0])\n",
    "predict_data['DemClusterGroup']=predict_data['DemClusterGroup'].fillna(predict_data['DemClusterGroup'].mode()[0])\n",
    "predict_data['DemGender']=predict_data['DemGender'].fillna(predict_data['DemGender'].mode()[0])\n",
    "predict_data['DemReg']=predict_data['DemReg'].fillna(predict_data['DemReg'].mode()[0])\n",
    "predict_data['DemTVReg']=predict_data['DemTVReg'].fillna(predict_data['DemTVReg'].mode()[0])\n",
    "predict_data['LoyalTime']=predict_data['LoyalTime'].fillna(predict_data['LoyalTime'].mean())"
   ]
  },
  {
   "cell_type": "code",
   "execution_count": 88,
   "id": "0f524a1e-e4de-4dea-923e-acf47e3cec57",
   "metadata": {},
   "outputs": [
    {
     "name": "stdout",
     "output_type": "stream",
     "text": [
      "{'A': 0, 'B': 1, 'C': 2, 'D': 3, 'E': 4, 'F': 5, 'U': 6}\n",
      "{'F': 0, 'M': 1, 'U': 2}\n",
      "{'Midlands': 0, 'North': 1, 'Scottish': 2, 'South East': 3, 'South West': 4}\n",
      "{'Border': 0, 'C Scotland': 1, 'East': 2, 'London': 3, 'Midlands': 4, 'N East': 5, 'N Scot': 6, 'N West': 7, 'S & S East': 8, 'S West': 9, 'Ulster': 10, 'Wales & West': 11, 'Yorkshire': 12}\n",
      "{'Gold': 0, 'Platinum': 1, 'Silver': 2, 'Tin': 3}\n"
     ]
    }
   ],
   "source": [
    "# converting to mumeric\n",
    "\n",
    "from sklearn.preprocessing import LabelEncoder\n",
    "number = LabelEncoder()\n",
    "\n",
    "predict_data['DemClusterGroup'] = number.fit_transform(predict_data['DemClusterGroup'].astype('str'))\n",
    "integer_mapping = {l: i for i, l in enumerate(number.classes_)}\n",
    "print(integer_mapping)\n",
    "\n",
    "predict_data['DemGender'] = number.fit_transform(predict_data['DemGender'].astype('str'))\n",
    "integer_mapping = {l: i for i, l in enumerate(number.classes_)}\n",
    "print(integer_mapping)\n",
    "\n",
    "predict_data['DemReg'] = number.fit_transform(predict_data['DemReg'].astype('str'))\n",
    "integer_mapping = {l: i for i, l in enumerate(number.classes_)}\n",
    "print(integer_mapping)\n",
    "\n",
    "predict_data['DemTVReg'] = number.fit_transform(predict_data['DemTVReg'].astype('str'))\n",
    "integer_mapping = {l: i for i, l in enumerate(number.classes_)}\n",
    "print(integer_mapping)\n",
    "\n",
    "predict_data['LoyalClass'] = number.fit_transform(predict_data['LoyalClass'].astype('str'))\n",
    "integer_mapping = {l: i for i, l in enumerate(number.classes_)}\n",
    "print(integer_mapping)"
   ]
  },
  {
   "cell_type": "code",
   "execution_count": 91,
   "id": "a6b24011-23cd-4c90-be0a-558c78d16f02",
   "metadata": {},
   "outputs": [],
   "source": [
    "X_fresh = predict_data.iloc[:, 0:10].values"
   ]
  },
  {
   "cell_type": "code",
   "execution_count": 92,
   "id": "bbf4175d-0022-4306-a109-1620ec74b9f8",
   "metadata": {},
   "outputs": [],
   "source": [
    "import joblib\n",
    "\n",
    "# Load the saved GridSearchCV object\n",
    "loaded_gcv_model_select = joblib.load('./c2_GridSearchCV_LoyalCustomers')"
   ]
  },
  {
   "cell_type": "code",
   "execution_count": 93,
   "id": "e2cc8c48-ea2d-4b26-9cdb-3e3c7b152f57",
   "metadata": {},
   "outputs": [
    {
     "data": {
      "text/plain": [
       "array([[0.97223149, 0.02776851],\n",
       "       [0.98240692, 0.01759308],\n",
       "       [0.89866009, 0.10133991],\n",
       "       ...,\n",
       "       [0.9094924 , 0.0905076 ],\n",
       "       [0.81691352, 0.18308648],\n",
       "       [0.65520221, 0.34479779]])"
      ]
     },
     "execution_count": 93,
     "metadata": {},
     "output_type": "execute_result"
    }
   ],
   "source": [
    "predictions = loaded_gcv_model_select.predict_proba(X_fresh)\n",
    "predictions"
   ]
  },
  {
   "cell_type": "code",
   "execution_count": null,
   "id": "8a2cfa6e-e830-481e-8896-221f3eb458ae",
   "metadata": {},
   "outputs": [],
   "source": [
    "df_90_percent = pd.DataFrame(predictions, columns=['prob_0', 'prob_1'])\n",
    "\n",
    "# Create DataFrames for test dataset and features\n",
    "df_test_dataset = pd.DataFrame(y_test, columns=['Actual Outcome'])\n",
    "df_x_test = pd.DataFrame(X_test)\n",
    "\n",
    "# Concatenate all DataFrames\n",
    "dfx = pd.concat([df_x_test, df_test_dataset, df_prediction_prob], axis=1)\n",
    "excel_file_path = \"/Users/rajeshkumarroutray/Downloads/c1_ModelOutput_10Percent.xlsx\"\n",
    "\n",
    "# Save the DataFrame to a n Excel file\n",
    "dfx.to_excel(excel_file_path, index=False)"
   ]
  },
  {
   "cell_type": "code",
   "execution_count": 94,
   "id": "1dd76d87-76c1-43e6-882b-d516ed10463d",
   "metadata": {},
   "outputs": [],
   "source": [
    "df_90_prob = pd.DataFrame(predictions, columns = ['prob_0', 'prob_1'])\n",
    "dfx=pd.concat([predict_data,df_90_prob], axis=1)\n",
    "excel_file_path = \"/Users/rajeshkumarroutray/Downloads/c1_ModelOutput_90Percentv2.xlsx\"\n",
    "\n",
    "# Save the DataFrame to an Excel file\n",
    "dfx.to_excel(excel_file_path, index=False)"
   ]
  },
  {
   "cell_type": "code",
   "execution_count": 101,
   "id": "25baf36e-8554-4250-9251-e1d9dd8c475b",
   "metadata": {},
   "outputs": [],
   "source": [
    "dfx = dfx.sort_values(by = 'prob_1', ascending = False)"
   ]
  },
  {
   "cell_type": "code",
   "execution_count": 106,
   "id": "3b38afc1-8c01-40db-967c-8f013d00a676",
   "metadata": {},
   "outputs": [],
   "source": [
    "dfx.drop('decile',axis =1 , inplace=True)"
   ]
  },
  {
   "cell_type": "code",
   "execution_count": null,
   "id": "de9a2d38-6403-4134-bee4-096e5da547f3",
   "metadata": {},
   "outputs": [],
   "source": []
  }
 ],
 "metadata": {
  "kernelspec": {
   "display_name": "Python 3 (ipykernel)",
   "language": "python",
   "name": "python3"
  },
  "language_info": {
   "codemirror_mode": {
    "name": "ipython",
    "version": 3
   },
   "file_extension": ".py",
   "mimetype": "text/x-python",
   "name": "python",
   "nbconvert_exporter": "python",
   "pygments_lexer": "ipython3",
   "version": "3.10.12"
  }
 },
 "nbformat": 4,
 "nbformat_minor": 5
}
